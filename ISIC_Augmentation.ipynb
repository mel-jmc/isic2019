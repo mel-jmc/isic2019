{
 "cells": [
  {
   "cell_type": "code",
   "execution_count": 1,
   "metadata": {},
   "outputs": [],
   "source": [
    "from tqdm import tqdm\n",
    "from skimage.transform import rotate\n",
    "from skimage.util import random_noise\n",
    "from skimage.filters import gaussian\n",
    "from scipy import ndimage\n",
    "import skimage.io as io\n",
    "from skimage.io import imread, imsave\n",
    "\n",
    "import pandas as pd\n",
    "import numpy as np\n",
    "import matplotlib.pyplot as plt"
   ]
  },
  {
   "cell_type": "code",
   "execution_count": 2,
   "metadata": {},
   "outputs": [
    {
     "data": {
      "text/html": [
       "<div>\n",
       "<style scoped>\n",
       "    .dataframe tbody tr th:only-of-type {\n",
       "        vertical-align: middle;\n",
       "    }\n",
       "\n",
       "    .dataframe tbody tr th {\n",
       "        vertical-align: top;\n",
       "    }\n",
       "\n",
       "    .dataframe thead th {\n",
       "        text-align: right;\n",
       "    }\n",
       "</style>\n",
       "<table border=\"1\" class=\"dataframe\">\n",
       "  <thead>\n",
       "    <tr style=\"text-align: right;\">\n",
       "      <th></th>\n",
       "      <th>Unnamed: 0</th>\n",
       "      <th>image</th>\n",
       "      <th>age_approx</th>\n",
       "      <th>anatom_site_general</th>\n",
       "      <th>lesion_id</th>\n",
       "      <th>sex</th>\n",
       "      <th>outcome</th>\n",
       "      <th>outcome_idx</th>\n",
       "      <th>path</th>\n",
       "    </tr>\n",
       "  </thead>\n",
       "  <tbody>\n",
       "    <tr>\n",
       "      <th>0</th>\n",
       "      <td>0</td>\n",
       "      <td>ISIC_0000000</td>\n",
       "      <td>55.0</td>\n",
       "      <td>anterior torso</td>\n",
       "      <td>NaN</td>\n",
       "      <td>female</td>\n",
       "      <td>NV</td>\n",
       "      <td>4</td>\n",
       "      <td>C:/Users/desktop-pc/Downloads/ISIC2019/ISIC_20...</td>\n",
       "    </tr>\n",
       "    <tr>\n",
       "      <th>1</th>\n",
       "      <td>1</td>\n",
       "      <td>ISIC_0000001</td>\n",
       "      <td>30.0</td>\n",
       "      <td>anterior torso</td>\n",
       "      <td>NaN</td>\n",
       "      <td>female</td>\n",
       "      <td>NV</td>\n",
       "      <td>4</td>\n",
       "      <td>C:/Users/desktop-pc/Downloads/ISIC2019/ISIC_20...</td>\n",
       "    </tr>\n",
       "    <tr>\n",
       "      <th>2</th>\n",
       "      <td>2</td>\n",
       "      <td>ISIC_0000002</td>\n",
       "      <td>60.0</td>\n",
       "      <td>upper extremity</td>\n",
       "      <td>NaN</td>\n",
       "      <td>female</td>\n",
       "      <td>MEL</td>\n",
       "      <td>3</td>\n",
       "      <td>C:/Users/desktop-pc/Downloads/ISIC2019/ISIC_20...</td>\n",
       "    </tr>\n",
       "    <tr>\n",
       "      <th>3</th>\n",
       "      <td>3</td>\n",
       "      <td>ISIC_0000003</td>\n",
       "      <td>30.0</td>\n",
       "      <td>upper extremity</td>\n",
       "      <td>NaN</td>\n",
       "      <td>male</td>\n",
       "      <td>NV</td>\n",
       "      <td>4</td>\n",
       "      <td>C:/Users/desktop-pc/Downloads/ISIC2019/ISIC_20...</td>\n",
       "    </tr>\n",
       "    <tr>\n",
       "      <th>4</th>\n",
       "      <td>4</td>\n",
       "      <td>ISIC_0000004</td>\n",
       "      <td>80.0</td>\n",
       "      <td>posterior torso</td>\n",
       "      <td>NaN</td>\n",
       "      <td>male</td>\n",
       "      <td>MEL</td>\n",
       "      <td>3</td>\n",
       "      <td>C:/Users/desktop-pc/Downloads/ISIC2019/ISIC_20...</td>\n",
       "    </tr>\n",
       "  </tbody>\n",
       "</table>\n",
       "</div>"
      ],
      "text/plain": [
       "   Unnamed: 0         image  age_approx anatom_site_general lesion_id     sex  \\\n",
       "0           0  ISIC_0000000        55.0      anterior torso       NaN  female   \n",
       "1           1  ISIC_0000001        30.0      anterior torso       NaN  female   \n",
       "2           2  ISIC_0000002        60.0     upper extremity       NaN  female   \n",
       "3           3  ISIC_0000003        30.0     upper extremity       NaN    male   \n",
       "4           4  ISIC_0000004        80.0     posterior torso       NaN    male   \n",
       "\n",
       "  outcome  outcome_idx                                               path  \n",
       "0      NV            4  C:/Users/desktop-pc/Downloads/ISIC2019/ISIC_20...  \n",
       "1      NV            4  C:/Users/desktop-pc/Downloads/ISIC2019/ISIC_20...  \n",
       "2     MEL            3  C:/Users/desktop-pc/Downloads/ISIC2019/ISIC_20...  \n",
       "3      NV            4  C:/Users/desktop-pc/Downloads/ISIC2019/ISIC_20...  \n",
       "4     MEL            3  C:/Users/desktop-pc/Downloads/ISIC2019/ISIC_20...  "
      ]
     },
     "execution_count": 2,
     "metadata": {},
     "output_type": "execute_result"
    }
   ],
   "source": [
    "df = pd.read_csv(\"C:/Users/desktop-pc/Desktop/isic2019.csv\")\n",
    "df.head()"
   ]
  },
  {
   "cell_type": "code",
   "execution_count": 3,
   "metadata": {},
   "outputs": [
    {
     "data": {
      "text/plain": [
       "4    12875\n",
       "3     4522\n",
       "1     3323\n",
       "2     2624\n",
       "0      867\n",
       "7      628\n",
       "5      253\n",
       "6      239\n",
       "Name: outcome_idx, dtype: int64"
      ]
     },
     "execution_count": 3,
     "metadata": {},
     "output_type": "execute_result"
    }
   ],
   "source": [
    "df.outcome_idx.value_counts()"
   ]
  },
  {
   "cell_type": "markdown",
   "metadata": {},
   "source": [
    "For undersampling the dominant class"
   ]
  },
  {
   "cell_type": "code",
   "execution_count": 4,
   "metadata": {},
   "outputs": [
    {
     "data": {
      "text/plain": [
       "'from sklearn.utils import resample\\ndf_NV = df[df.outcome_idx==4]\\ndf_rest = df[df.outcome_idx!=4]\\ndf_NV_downsampled = resample(df_NV, \\n                                 replace=False,    # sample without replacement\\n                                 n_samples=5000,     # to match minority class\\n                                 random_state=1) # reproducible results\\ndf = pd.concat([df_NV_downsampled, df_rest])\\ndf.outcome_idx.value_counts() '"
      ]
     },
     "execution_count": 4,
     "metadata": {},
     "output_type": "execute_result"
    }
   ],
   "source": [
    "'''from sklearn.utils import resample\n",
    "df_NV = df[df.outcome_idx==4]\n",
    "df_rest = df[df.outcome_idx!=4]\n",
    "df_NV_downsampled = resample(df_NV, \n",
    "                                 replace=False,    # sample without replacement\n",
    "                                 n_samples=5000,     # to match minority class\n",
    "                                 random_state=1) # reproducible results\n",
    "df = pd.concat([df_NV_downsampled, df_rest])\n",
    "df.outcome_idx.value_counts() '''"
   ]
  },
  {
   "cell_type": "code",
   "execution_count": 5,
   "metadata": {},
   "outputs": [
    {
     "data": {
      "text/html": [
       "<div>\n",
       "<style scoped>\n",
       "    .dataframe tbody tr th:only-of-type {\n",
       "        vertical-align: middle;\n",
       "    }\n",
       "\n",
       "    .dataframe tbody tr th {\n",
       "        vertical-align: top;\n",
       "    }\n",
       "\n",
       "    .dataframe thead th {\n",
       "        text-align: right;\n",
       "    }\n",
       "</style>\n",
       "<table border=\"1\" class=\"dataframe\">\n",
       "  <thead>\n",
       "    <tr style=\"text-align: right;\">\n",
       "      <th></th>\n",
       "      <th>index</th>\n",
       "      <th>Unnamed: 0</th>\n",
       "      <th>image</th>\n",
       "      <th>age_approx</th>\n",
       "      <th>anatom_site_general</th>\n",
       "      <th>lesion_id</th>\n",
       "      <th>sex</th>\n",
       "      <th>outcome</th>\n",
       "      <th>outcome_idx</th>\n",
       "      <th>path</th>\n",
       "    </tr>\n",
       "  </thead>\n",
       "  <tbody>\n",
       "    <tr>\n",
       "      <th>0</th>\n",
       "      <td>19623</td>\n",
       "      <td>19623</td>\n",
       "      <td>ISIC_0064222</td>\n",
       "      <td>75.0</td>\n",
       "      <td>anterior torso</td>\n",
       "      <td>BCN_0000835</td>\n",
       "      <td>male</td>\n",
       "      <td>AK</td>\n",
       "      <td>0</td>\n",
       "      <td>C:/Users/desktop-pc/Downloads/ISIC2019/ISIC_20...</td>\n",
       "    </tr>\n",
       "    <tr>\n",
       "      <th>1</th>\n",
       "      <td>12220</td>\n",
       "      <td>12220</td>\n",
       "      <td>ISIC_0033623</td>\n",
       "      <td>40.0</td>\n",
       "      <td>NaN</td>\n",
       "      <td>HAM_0004202</td>\n",
       "      <td>female</td>\n",
       "      <td>NV</td>\n",
       "      <td>4</td>\n",
       "      <td>C:/Users/desktop-pc/Downloads/ISIC2019/ISIC_20...</td>\n",
       "    </tr>\n",
       "    <tr>\n",
       "      <th>2</th>\n",
       "      <td>9223</td>\n",
       "      <td>9223</td>\n",
       "      <td>ISIC_0030626</td>\n",
       "      <td>40.0</td>\n",
       "      <td>NaN</td>\n",
       "      <td>HAM_0001031</td>\n",
       "      <td>male</td>\n",
       "      <td>NV</td>\n",
       "      <td>4</td>\n",
       "      <td>C:/Users/desktop-pc/Downloads/ISIC2019/ISIC_20...</td>\n",
       "    </tr>\n",
       "    <tr>\n",
       "      <th>3</th>\n",
       "      <td>23382</td>\n",
       "      <td>23382</td>\n",
       "      <td>ISIC_0070146</td>\n",
       "      <td>85.0</td>\n",
       "      <td>upper extremity</td>\n",
       "      <td>BCN_0003657</td>\n",
       "      <td>male</td>\n",
       "      <td>BCC</td>\n",
       "      <td>1</td>\n",
       "      <td>C:/Users/desktop-pc/Downloads/ISIC2019/ISIC_20...</td>\n",
       "    </tr>\n",
       "    <tr>\n",
       "      <th>4</th>\n",
       "      <td>5095</td>\n",
       "      <td>5095</td>\n",
       "      <td>ISIC_0026498</td>\n",
       "      <td>35.0</td>\n",
       "      <td>posterior torso</td>\n",
       "      <td>HAM_0000054</td>\n",
       "      <td>female</td>\n",
       "      <td>NV</td>\n",
       "      <td>4</td>\n",
       "      <td>C:/Users/desktop-pc/Downloads/ISIC2019/ISIC_20...</td>\n",
       "    </tr>\n",
       "  </tbody>\n",
       "</table>\n",
       "</div>"
      ],
      "text/plain": [
       "   index  Unnamed: 0         image  age_approx anatom_site_general  \\\n",
       "0  19623       19623  ISIC_0064222        75.0      anterior torso   \n",
       "1  12220       12220  ISIC_0033623        40.0                 NaN   \n",
       "2   9223        9223  ISIC_0030626        40.0                 NaN   \n",
       "3  23382       23382  ISIC_0070146        85.0     upper extremity   \n",
       "4   5095        5095  ISIC_0026498        35.0     posterior torso   \n",
       "\n",
       "     lesion_id     sex outcome  outcome_idx  \\\n",
       "0  BCN_0000835    male      AK            0   \n",
       "1  HAM_0004202  female      NV            4   \n",
       "2  HAM_0001031    male      NV            4   \n",
       "3  BCN_0003657    male     BCC            1   \n",
       "4  HAM_0000054  female      NV            4   \n",
       "\n",
       "                                                path  \n",
       "0  C:/Users/desktop-pc/Downloads/ISIC2019/ISIC_20...  \n",
       "1  C:/Users/desktop-pc/Downloads/ISIC2019/ISIC_20...  \n",
       "2  C:/Users/desktop-pc/Downloads/ISIC2019/ISIC_20...  \n",
       "3  C:/Users/desktop-pc/Downloads/ISIC2019/ISIC_20...  \n",
       "4  C:/Users/desktop-pc/Downloads/ISIC2019/ISIC_20...  "
      ]
     },
     "execution_count": 5,
     "metadata": {},
     "output_type": "execute_result"
    }
   ],
   "source": [
    "from sklearn.model_selection import train_test_split\n",
    "\n",
    "train_df, test_df = train_test_split(df, test_size=0.2)\n",
    "\n",
    "train_df = train_df.reset_index()\n",
    "test_df = test_df.reset_index()\n",
    "test_df.to_csv(\"C:/Users/desktop-pc/Desktop/test.csv\")\n",
    "train_df.head()"
   ]
  },
  {
   "cell_type": "code",
   "execution_count": 6,
   "metadata": {},
   "outputs": [],
   "source": [
    "src_dir = \"C:/Users/desktop-pc/Downloads/ISIC2019/ISIC_2019_Training_Input/\"\n",
    "dst_dir = \"C:/Users/desktop-pc/Desktop/OverSampling/\"\n",
    "train_img = []\n",
    "final_target_train = []\n",
    "for image, outcome in zip(train_df.image, train_df.outcome_idx):\n",
    "    #shutil.copy(src_dir + str(image) + \".jpg\", dst_dir + str(image) + \".jpg\")\n",
    "    img = imread(src_dir + str(image) + \".jpg\")\n",
    "    flipud = np.flipud(img)                                 # vertical flip all images\n",
    "    plt.imsave(dst_dir + str(image) + \"flipedud.jpg\", flipud)\n",
    "    train_df = train_df.append({'outcome_idx': outcome, 'path':  dst_dir + str(image) + \"flipedud.jpg\" }, ignore_index=True) \n",
    "    if outcome==0 or outcome==7 or outcome==5 or outcome==6:      \n",
    "        img_rotate = rotate(img, angle=180, mode = 'wrap')       # rotate\n",
    "        plt.imsave(dst_dir + str(image) + \"rotated.jpg\", img_rotate)\n",
    "        train_df = train_df.append({'outcome_idx': outcome, 'path': dst_dir + str(image) + \"rotated.jpg\" }, ignore_index=True) \n",
    "        fliplr = np.fliplr(img)                                 # horizontal flip\n",
    "        plt.imsave(dst_dir + str(image) + \"flipedlr.jpg\", fliplr)\n",
    "        train_df = train_df.append({'outcome_idx': outcome, 'path': dst_dir + str(image) + \"flipedlr.jpg\" }, ignore_index=True) "
   ]
  },
  {
   "cell_type": "code",
   "execution_count": 7,
   "metadata": {},
   "outputs": [
    {
     "data": {
      "text/plain": [
       "(43654, 10)"
      ]
     },
     "execution_count": 7,
     "metadata": {},
     "output_type": "execute_result"
    }
   ],
   "source": [
    "train_df.shape"
   ]
  },
  {
   "cell_type": "code",
   "execution_count": 8,
   "metadata": {},
   "outputs": [],
   "source": [
    "from sklearn.utils import shuffle\n",
    "train_df=shuffle(train_df)\n",
    "train_df.to_csv(\"C:/Users/desktop-pc/Desktop/train.csv\")"
   ]
  },
  {
   "cell_type": "code",
   "execution_count": 9,
   "metadata": {},
   "outputs": [
    {
     "data": {
      "text/plain": [
       "4    20700\n",
       "3     7172\n",
       "1     5336\n",
       "2     4194\n",
       "0     2716\n",
       "7     1992\n",
       "5      792\n",
       "6      752\n",
       "Name: outcome_idx, dtype: int64"
      ]
     },
     "execution_count": 9,
     "metadata": {},
     "output_type": "execute_result"
    }
   ],
   "source": [
    "train_df.outcome_idx.value_counts()"
   ]
  }
 ],
 "metadata": {
  "kernelspec": {
   "display_name": "Python 3",
   "language": "python",
   "name": "python3"
  },
  "language_info": {
   "codemirror_mode": {
    "name": "ipython",
    "version": 3
   },
   "file_extension": ".py",
   "mimetype": "text/x-python",
   "name": "python",
   "nbconvert_exporter": "python",
   "pygments_lexer": "ipython3",
   "version": "3.7.6"
  }
 },
 "nbformat": 4,
 "nbformat_minor": 4
}
