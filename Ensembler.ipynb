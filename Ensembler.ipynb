{
 "cells": [
  {
   "cell_type": "code",
   "execution_count": 1,
   "metadata": {},
   "outputs": [],
   "source": [
    "from efficientnet_pytorch import EfficientNet\n",
    "import torchvision.models as models\n",
    "import torch\n",
    "import pandas as pd\n",
    "import numpy as np\n",
    "import matplotlib.pyplot as plt\n",
    "from sklearn.utils import shuffle"
   ]
  },
  {
   "cell_type": "code",
   "execution_count": 2,
   "metadata": {},
   "outputs": [],
   "source": [
    "test_df = pd.read_csv(\"C:/Users/desktop-pc/Desktop/test.csv\")"
   ]
  },
  {
   "cell_type": "code",
   "execution_count": 3,
   "metadata": {},
   "outputs": [],
   "source": [
    "import torch.utils.data as data\n",
    "\n",
    "class Dataset(data.Dataset):\n",
    "    'Characterizes a dataset for PyTorch'\n",
    "    def __init__(self, df, transform_b2=None, transform_b3=None):\n",
    "        'Initialization'\n",
    "        self.df = df\n",
    "        self.transform_b2 = transform_b2\n",
    "        self.transform_b3 = transform_b3\n",
    "\n",
    "    def __len__(self):\n",
    "        'Denotes the total number of samples'\n",
    "        return len(self.df)\n",
    "\n",
    "    def __getitem__(self, index):\n",
    "        'Generates one sample of data'\n",
    "        # Load data and get label\n",
    "        X = Image.open(self.df['path'][index])\n",
    "        y = torch.tensor(int(self.df['outcome_idx'][index]))\n",
    "\n",
    "        if self.transform_b2:\n",
    "            X_b2 = self.transform_b2(X)\n",
    "            \n",
    "        if self.transform_b3:\n",
    "            X_b3 = self.transform_b3(X)\n",
    "\n",
    "        return X_b2, X_b3, y"
   ]
  },
  {
   "cell_type": "code",
   "execution_count": 4,
   "metadata": {},
   "outputs": [],
   "source": [
    "effNetb2 = torch.load('C:/Users/desktop-pc/Desktop/EfficientNet/EfficientNet-b2/EfficientNet-b2_gradients_best.pth')\n",
    "effNetb3 = torch.load('C:/Users/desktop-pc/Desktop/EfficientNet/EfficientNet-b3/EfficientNet-b3_best_loss.pth')#net = torch.load(\"C:/Users/desktop-pc/Desktop/EfficientNet/EfficientNet-b2 - Accumulating Gradients/EfficientNet-b2_gradients_best.pth\", map_location=torch.device('cpu'))  "
   ]
  },
  {
   "cell_type": "code",
   "execution_count": 5,
   "metadata": {},
   "outputs": [],
   "source": [
    "import torchvision.transforms as trf\n",
    "# defining the transformation of the images.\n",
    "\n",
    "composed_b2 = trf.Compose([trf.Resize((260,260)), trf.ToTensor(),\n",
    "                        trf.Normalize(mean=[0.485, 0.456, 0.406], std=[0.229, 0.224, 0.225])])\n",
    "\n",
    "composed_b3 = trf.Compose([trf.Resize((300,300)), trf.ToTensor(),\n",
    "                        trf.Normalize(mean=[0.485, 0.456, 0.406], std=[0.229, 0.224, 0.225])])\n",
    "\n",
    "\n",
    "test_set = Dataset(test_df, transform_b2=composed_b2, transform_b3=composed_b3)\n",
    "test_generator = data.SequentialSampler(test_set)"
   ]
  },
  {
   "cell_type": "code",
   "execution_count": null,
   "metadata": {},
   "outputs": [],
   "source": [
    "## Averaging the crossentropy outcomes ##\n",
    "'''from PIL import Image\n",
    "\n",
    "device='cuda:0'\n",
    "\n",
    "effNetb2.eval()\n",
    "effNetb3.eval()\n",
    "y_pred = []\n",
    "y_true = []\n",
    "softmax = torch.nn.Softmax(dim=1)\n",
    "for i in test_generator:\n",
    "    data_sample_b2, data_sample_b3, y = test_set.__getitem__(i)\n",
    "    data_b2_gpu, data_b3_gpu = data_sample_b2.unsqueeze(0).to(device), data_sample_b3.unsqueeze(0).to(device) ##################\n",
    "    output_b2, output_b3 = effNetb2(data_b2_gpu), effNetb3(data_b3_gpu)\n",
    "    avg_predictions = output_b2.add(output_b3) / 2\n",
    "    result = torch.argmax(avg_predictions)\n",
    "    y_pred.append(result.item())\n",
    "    y_true.append(y.item())\n",
    "\n",
    "correct_results = np.array(y_pred)==np.array(y_true)\n",
    "sum_correct = np.sum(correct_results)\n",
    "accuracy = sum_correct/test_generator.__len__()'''"
   ]
  },
  {
   "cell_type": "code",
   "execution_count": 6,
   "metadata": {},
   "outputs": [],
   "source": [
    "from PIL import Image\n",
    "\n",
    "device='cuda:0'\n",
    "\n",
    "'''Evaluating on test set'''\n",
    "effNetb2.eval()\n",
    "effNetb3.eval()\n",
    "y_pred = []\n",
    "y_true = []\n",
    "softmax = torch.nn.Softmax(dim=1)\n",
    "for i in test_generator:\n",
    "    data_sample_b2, data_sample_b3, y = test_set.__getitem__(i)\n",
    "    data_b2_gpu, data_b3_gpu = data_sample_b2.unsqueeze(0).to(device), data_sample_b3.unsqueeze(0).to(device) ##################\n",
    "    output_b2, output_b3 = effNetb2(data_b2_gpu), effNetb3(data_b3_gpu)\n",
    "    probabilities_b2 = softmax(output_b2)[0].cpu().detach().numpy()\n",
    "    probabilities_b3 = softmax(output_b3)[0].cpu().detach().numpy()\n",
    "    probabilities_ensembler = (probabilities_b2 + probabilities_b3) / 2\n",
    "    result = np.argmax(probabilities_ensembler)\n",
    "    y_pred.append(result.item())\n",
    "    y_true.append(y.item())\n",
    "\n",
    "correct_results = np.array(y_pred)==np.array(y_true)\n",
    "sum_correct = np.sum(correct_results)\n",
    "accuracy = sum_correct/test_generator.__len__()"
   ]
  },
  {
   "cell_type": "code",
   "execution_count": 7,
   "metadata": {},
   "outputs": [
    {
     "name": "stdout",
     "output_type": "stream",
     "text": [
      "Accuracy  0.8162620880205249\n",
      "Balanced Accuracy  0.8172090443118704\n",
      "Recall Score macro  0.8172090443118704\n",
      "Recall Score micro  0.8162620880205249\n",
      "Recall Score for each class  [0.7393617  0.8870229  0.73244782 0.74145299 0.84871287 0.96363636\n",
      " 0.90196078 0.72307692]\n"
     ]
    }
   ],
   "source": [
    "from sklearn.metrics import balanced_accuracy_score, recall_score, classification_report, confusion_matrix\n",
    "\n",
    "# Accuracy, Balanced Accuracy and Recall Scores\n",
    "balanced_acc = balanced_accuracy_score(y_true, y_pred)\n",
    "recall_score_macro = recall_score(y_true, y_pred, average='macro') \n",
    "recall_score_micro = recall_score(y_true, y_pred, average='micro')\n",
    "recall_score = recall_score(y_true, y_pred, average=None) \n",
    "\n",
    "print(\"Accuracy \", accuracy)\n",
    "print(\"Balanced Accuracy \", balanced_acc)\n",
    "print(\"Recall Score macro \", recall_score_macro)\n",
    "print(\"Recall Score micro \", recall_score_micro)\n",
    "print(\"Recall Score for each class \", recall_score)"
   ]
  },
  {
   "cell_type": "code",
   "execution_count": 8,
   "metadata": {},
   "outputs": [
    {
     "name": "stdout",
     "output_type": "stream",
     "text": [
      "                             precision    recall  f1-score   support\n",
      "\n",
      "       AK actinic keratosis       0.59      0.74      0.66       188\n",
      "   BCC basal cell carcinoma       0.81      0.89      0.85       655\n",
      "       BKL benign keratosis       0.72      0.73      0.73       527\n",
      "               MEL melanoma       0.72      0.74      0.73       936\n",
      "        NV Melanocytic nevi       0.92      0.85      0.88      2525\n",
      "       VASC vascular lesion       0.80      0.96      0.88        55\n",
      "         DF dermatofibroma        0.60      0.90      0.72        51\n",
      "SCC Squamous cell carcinoma       0.66      0.72      0.69       130\n",
      "\n",
      "                   accuracy                           0.82      5067\n",
      "                  macro avg       0.73      0.82      0.77      5067\n",
      "               weighted avg       0.82      0.82      0.82      5067\n",
      "\n"
     ]
    }
   ],
   "source": [
    "target_names = ['AK actinic keratosis', 'BCC basal cell carcinoma', 'BKL benign keratosis', 'MEL melanoma', 'NV Melanocytic nevi', 'VASC vascular lesion', 'DF dermatofibroma ', 'SCC Squamous cell carcinoma']\n",
    "print(classification_report(y_true, y_pred, target_names=target_names))"
   ]
  },
  {
   "cell_type": "code",
   "execution_count": 9,
   "metadata": {},
   "outputs": [
    {
     "name": "stdout",
     "output_type": "stream",
     "text": [
      "[[ 139   18   16    2    1    0    1   11]\n",
      " [  20  581    6   15    9    3    2   19]\n",
      " [  31   22  386   34   43    0    3    8]\n",
      " [  18   30   40  694  136    1    9    8]\n",
      " [  15   49   77  215 2143    9   15    2]\n",
      " [   0    1    0    1    0   53    0    0]\n",
      " [   1    2    1    0    0    0   46    1]\n",
      " [  10   13    8    4    0    0    1   94]]\n"
     ]
    }
   ],
   "source": [
    "# https://stackoverflow.com/questions/50666091/true-positive-rate-and-false-positive-rate-tpr-fpr-for-multi-class-data-in-py\n",
    "cnf_matrix = confusion_matrix(y_true, y_pred)\n",
    "print(cnf_matrix)"
   ]
  },
  {
   "cell_type": "code",
   "execution_count": 10,
   "metadata": {},
   "outputs": [
    {
     "data": {
      "text/plain": [
       "<matplotlib.axes._subplots.AxesSubplot at 0x132a51c0988>"
      ]
     },
     "execution_count": 10,
     "metadata": {},
     "output_type": "execute_result"
    },
    {
     "data": {
      "image/png": "[encoded data removed]",
      "text/plain": [
       "<Figure size 720x504 with 2 Axes>"
      ]
     },
     "metadata": {
      "needs_background": "light"
     },
     "output_type": "display_data"
    }
   ],
   "source": [
    "import seaborn as sn\n",
    "# Ploting the Confusion Matrix\n",
    "df_cm = pd.DataFrame(cnf_matrix, index = target_names, columns = target_names)\n",
    "plt.figure(figsize = (10,7))\n",
    "sn.heatmap(df_cm, annot=True)"
   ]
  },
  {
   "cell_type": "code",
   "execution_count": 11,
   "metadata": {},
   "outputs": [
    {
     "name": "stdout",
     "output_type": "stream",
     "text": [
      "AK actinic keratosis\n",
      "BCC basal cell carcinoma\n",
      "BKL benign keratosis\n",
      "MEL melanoma\n",
      "NV Melanocytic nevi\n",
      "VASC vascular lesion\n",
      "DF dermatofibroma \n",
      "SCC Squamous cell carcinoma\n"
     ]
    }
   ],
   "source": [
    "lesion_type_dict = {0:'AK actinic keratosis', 1:'BCC basal cell carcinoma', 2:'BKL benign keratosis', 3: 'MEL melanoma', 4: 'NV Melanocytic nevi', 5: 'VASC vascular lesion', 6: 'DF dermatofibroma ', 7: 'SCC Squamous cell carcinoma'}\n",
    "for condition in range(8):\n",
    "    print(lesion_type_dict[condition])"
   ]
  },
  {
   "cell_type": "code",
   "execution_count": 12,
   "metadata": {},
   "outputs": [
    {
     "data": {
      "text/plain": [
       "0.89352200977258"
      ]
     },
     "execution_count": 12,
     "metadata": {},
     "output_type": "execute_result"
    }
   ],
   "source": [
    "from sklearn.preprocessing import LabelBinarizer\n",
    "from sklearn.metrics import roc_auc_score\n",
    "\n",
    "def multiclass_roc_auc_score(y_test, y_pred, average=\"macro\"):\n",
    "    lb = LabelBinarizer()\n",
    "    lb.fit(y_test)\n",
    "    y_test = lb.transform(y_test)\n",
    "    y_pred = lb.transform(y_pred)\n",
    "    return roc_auc_score(y_test, y_pred, average=average)\n",
    "# Multiclass Roc-AUC Score\n",
    "multiclass_roc_auc_score(y_true, y_pred)"
   ]
  }
 ],
 "metadata": {
  "kernelspec": {
   "display_name": "Python 3",
   "language": "python",
   "name": "python3"
  },
  "language_info": {
   "codemirror_mode": {
    "name": "ipython",
    "version": 3
   },
   "file_extension": ".py",
   "mimetype": "text/x-python",
   "name": "python",
   "nbconvert_exporter": "python",
   "pygments_lexer": "ipython3",
   "version": "3.7.6"
  }
 },
 "nbformat": 4,
 "nbformat_minor": 4
}
